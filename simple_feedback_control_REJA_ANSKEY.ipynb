{
 "cells": [
  {
   "cell_type": "markdown",
   "metadata": {
    "deletable": false,
    "editable": false,
    "id": "gyiTlVIquwe5",
    "nbgrader": {
     "checksum": "9bf2f2ef068d397ab48294f3edba1029",
     "grade": false,
     "grade_id": "cell-9eac0db64dae7f29",
     "locked": true,
     "schema_version": 1,
     "solution": false
    }
   },
   "source": [
    "# Practicing Feedback Control\n",
    "\n",
    "In this unit we are going to explore basic feedback control on a highly simplified, 1-dimensional model of the quadrotor-camera system.\n",
    "\n",
    "## Simple Slide Camera\n",
    "\n",
    "Imagine a camera attached to a cart that is allowed to slide along a 1-dimensional track. The track is elevated some height $h$ above the ground and the camera is pointing downward. There is some target on the ground that the camera can observe; more specifically the camera can measure the angle $-\\pi /2 < \\gamma < \\pi/2$ from the centerline of the camera to the target. The objective is to issue velocity commands, $v_{cmd}$, in order to move the cart to a position such that $\\gamma \\rightarrow \\gamma_{des}$ (e.g. if $\\gamma_{des} = 0$, then the objective is simply to move the cart directly over the target.\n",
    "\n",
    "This system is depicted in the below diagram:\n",
    "\n",
    "<img src=\"files/simple_slide_camera.jpg\">\n",
    "\n",
    "This somewhat contrived system can be thought of as a highly simplified model of the quadrotor and it's downward-facing camera. If the quadrotor is constrained to move in one dimension, can be controlled via velocity commands, and we ignore the pitch that is induced when changing velocity (valid assumption for low-acceleration maneuvers), then we can roughly model the quadrotor as this simple slide camera\n",
    "\n",
    "Note that the position of the cart, $x$, and position of the target $x_{des}$ are not directly measured, only $\\gamma$ is measured.\n",
    "\n",
    "Now we will provide the code necessary to simulate this system"
   ]
  },
  {
   "cell_type": "code",
   "execution_count": 1,
   "metadata": {
    "deletable": false,
    "editable": false,
    "id": "pfQvVFeSuwe8",
    "nbgrader": {
     "checksum": "710a7b5d599d1262582f03ad18af25f0",
     "grade": false,
     "grade_id": "cell-17e7b3d0056279df",
     "locked": true,
     "schema_version": 1,
     "solution": false
    }
   },
   "outputs": [],
   "source": [
    "from __future__ import division, print_function\n",
    "import numpy as np\n",
    "import matplotlib.pyplot as plt\n",
    "\n",
    "_HEIGHT = 1.0\n",
    "_VEL_CONST = 1.0\n",
    "_TIME_STEP = 0.1"
   ]
  },
  {
   "cell_type": "markdown",
   "metadata": {
    "deletable": false,
    "editable": false,
    "id": "V47i0kMDuwe9",
    "nbgrader": {
     "checksum": "ae22ffe1030056ebbad3cd08c3a65603",
     "grade": false,
     "grade_id": "cell-9f105cc37a0ac6f0",
     "locked": true,
     "schema_version": 1,
     "solution": false
    }
   },
   "source": [
    "## Plant Dynamics, Sensors, and Actuators\n",
    "\n",
    "the following object contains functions for the plant dynamics, sensing of the target angle $\\gamma$, and actuator for $v_{cmd}$"
   ]
  },
  {
   "cell_type": "code",
   "execution_count": 2,
   "metadata": {
    "deletable": false,
    "editable": false,
    "id": "Lqg90ltLuwe9",
    "nbgrader": {
     "checksum": "a61ee946afe2ccea4dab1feec909cc47",
     "grade": false,
     "grade_id": "cell-e61f9c935bfff2a3",
     "locked": true,
     "schema_version": 1,
     "solution": false
    }
   },
   "outputs": [],
   "source": [
    "class SimpleSlideCamera():\n",
    "    '''Object that defines the dynamics of the simple slide-camera'''\n",
    "\n",
    "    def __init__(self, x_0, v_0, x_d, gamma_d=0.0, h=_HEIGHT):\n",
    "\n",
    "        # state variables (hidden)\n",
    "        self.__x = x_0\n",
    "        self.__v = v_0\n",
    "\n",
    "        # reference position (hidden)\n",
    "        self.__x_d = x_d\n",
    "\n",
    "        # reference angle (observed)\n",
    "        self.gamma_d = gamma_d\n",
    "\n",
    "        # parameters\n",
    "        self.__h = h\n",
    "\n",
    "    def sense_gamma(self):\n",
    "        # calculate angle from camera center line to target\n",
    "        return  np.arctan2(self.__x - self.__x_d, self.__h)\n",
    "\n",
    "    def _get_hidden_position(self):\n",
    "\n",
    "        return self.__x\n",
    "\n",
    "    def _get_hidden_position_desired(self):\n",
    "        return self.__x_d\n",
    "\n",
    "    def _get_hidden_velocity(self):\n",
    "        return self.__v\n",
    "\n",
    "    def actuate_velocity_command(self, vel_cmd, dt=_TIME_STEP):\n",
    "        self.__v = vel_cmd\n",
    "        self.__x += self.__v*dt\n",
    "\n",
    "    def actuate_disturbed_velocity_command(self, vel_cmd, dt=_TIME_STEP, vel_bias=0.5, vel_std=0.1):\n",
    "        self.__v = vel_cmd + np.random.normal(vel_bias, vel_std)\n",
    "        self.__x += self.__v*dt\n",
    "\n",
    "    def actuate_acceleration_command(self, acc_cmd, dt=_TIME_STEP):\n",
    "        self.__v += acc_cmd*dt\n",
    "        self.__x += self.__v*dt"
   ]
  },
  {
   "cell_type": "markdown",
   "metadata": {
    "deletable": false,
    "editable": false,
    "id": "g5iO8pFHuwe-",
    "nbgrader": {
     "checksum": "931b7d2a8cba4f116939ae452a536369",
     "grade": false,
     "grade_id": "cell-b11d06336bd46a09",
     "locked": true,
     "schema_version": 1,
     "solution": false
    }
   },
   "source": [
    "## Controller"
   ]
  },
  {
   "cell_type": "code",
   "execution_count": 3,
   "metadata": {
    "deletable": false,
    "id": "q3-MLCdbuwe-",
    "nbgrader": {
     "checksum": "b9b170965de7e6744492096c575f4925",
     "grade": false,
     "grade_id": "cell-0e045fe402a168f6",
     "locked": false,
     "schema_version": 1,
     "solution": true
    }
   },
   "outputs": [],
   "source": [
    "def p_control(y_err, kp):\n",
    "    \"\"\"Proportional control law.\n",
    "\n",
    "    Parameters\n",
    "    ----------\n",
    "    y_err : float\n",
    "        Error signal y_des - y.\n",
    "    kp : float\n",
    "        Proportional gain.\n",
    "\n",
    "    Returns\n",
    "    -------\n",
    "    cmd : float\n",
    "        Control command (e.g. velocity).\n",
    "    \"\"\"\n",
    "    # Proportional term\n",
    "    cmd = kp * y_err\n",
    "    return cmd\n"
   ]
  },
  {
   "cell_type": "code",
   "execution_count": 4,
   "metadata": {
    "deletable": false,
    "editable": false,
    "id": "8G6S3EO7uwe_",
    "nbgrader": {
     "checksum": "f0ffe71ecdf9ef2e7214bb6339961643",
     "grade": true,
     "grade_id": "cell-3b7fc8766793b509",
     "locked": true,
     "points": 5,
     "schema_version": 1,
     "solution": false
    }
   },
   "outputs": [],
   "source": [
    "# p_control tests\n",
    "assert np.isclose(p_control(0.0, 1.0), 0.0)\n",
    "assert np.isclose(p_control(1.0, 1.0), 1.0)\n",
    "assert np.isclose(p_control(-10.0, 0.1), -1.0)"
   ]
  },
  {
   "cell_type": "markdown",
   "metadata": {
    "deletable": false,
    "editable": false,
    "id": "OATyqgy7uwe_",
    "nbgrader": {
     "checksum": "1ad7a19095b423ffbd9d4dbfbfadd763",
     "grade": false,
     "grade_id": "cell-437832fdb12b63af",
     "locked": true,
     "schema_version": 1,
     "solution": false
    }
   },
   "source": [
    "## Simulation Script\n",
    "\n",
    "below is a script for testing various controllers for the `SimpleSlideCamera` plant as well as plotting the results."
   ]
  },
  {
   "cell_type": "code",
   "execution_count": 5,
   "metadata": {
    "colab": {
     "base_uri": "https://localhost:8080/",
     "height": 430
    },
    "deletable": false,
    "id": "Jon0kfc4uwe_",
    "nbgrader": {
     "checksum": "429b01e2607788e2ba8555a0898681ac",
     "grade": false,
     "grade_id": "cell-a3cf4f67cec1349b",
     "locked": false,
     "schema_version": 1,
     "solution": true
    },
    "outputId": "6a312cdc-96c0-4251-e0f2-eb724a7b61cc"
   },
   "outputs": [
    {
     "data": {
      "image/png": "[encoded data removed]",
      "text/plain": [
       "<Figure size 640x480 with 1 Axes>"
      ]
     },
     "metadata": {},
     "output_type": "display_data"
    }
   ],
   "source": [
    "# Proportional gain\n",
    "kp = 0.8  # tuned by simple trial‑and‑error for quick convergence without overshoot\n",
    "\n",
    "\n",
    "# Control inputs\n",
    "dt = _TIME_STEP\n",
    "t_final = 10.0\n",
    "\n",
    "# intial conditions (position, velocity and target position)\n",
    "x_0 = 0.0\n",
    "v_0 = 0.0\n",
    "x_des = 1.0\n",
    "\n",
    "# create SimpleSlideCamera with initial conditions\n",
    "sscam = SimpleSlideCamera(x_0, v_0, x_des)\n",
    "\n",
    "# initialize data storage\n",
    "data = dict()\n",
    "data['t'] = []\n",
    "data['acc_cmd'] = []\n",
    "data['vel_cmd'] = []\n",
    "data['err_gamma'] = []\n",
    "data['x_hidden'] = []\n",
    "data['v_hidden'] = []\n",
    "t = 0.0\n",
    "err_prev = 0.0\n",
    "while t < t_final:\n",
    "    t += dt\n",
    "\n",
    "    # SENSOR: sense output variable gamma (angle from camera centerline to target) and calculate error from desired\n",
    "    err_gamma = sscam.gamma_d - sscam.sense_gamma()\n",
    "\n",
    "    # CONTROLLER: call velocity control algoritm\n",
    "    vel_cmd = p_control(err_gamma, kp)\n",
    "\n",
    "    # ACTUATOR: send velocity command to plant\n",
    "    sscam.actuate_acceleration_command(vel_cmd)\n",
    "\n",
    "    # store data\n",
    "    err_gamma_prev = err_gamma\n",
    "    data['t'].append(t)\n",
    "    data['vel_cmd'].append(vel_cmd)\n",
    "    data['err_gamma'].append(err_gamma)\n",
    "    data['x_hidden'].append(sscam._get_hidden_position())\n",
    "    data['v_hidden'].append(sscam._get_hidden_velocity())\n",
    "\n",
    "# Plot Data\n",
    "handle_position, = plt.plot(data['t'], data['x_hidden'], label='position (hidden)[m]')\n",
    "handle_velocity, = plt.plot(data['t'], data['v_hidden'], label='velocity (hidden)[m/s]')\n",
    "handle_err_gamma, = plt.plot(data['t'], data['err_gamma'], label='gamma error [rad]')\n",
    "plt.legend(handles=[handle_position, handle_velocity, handle_err_gamma])\n",
    "plt.show()"
   ]
  },
  {
   "cell_type": "markdown",
   "metadata": {
    "deletable": false,
    "editable": false,
    "id": "SRN68xgSuwfA",
    "nbgrader": {
     "checksum": "a5c7e309f3764e13ef1f071a61cdfb99",
     "grade": false,
     "grade_id": "cell-97663e5370ed4ee1",
     "locked": true,
     "schema_version": 1,
     "solution": false
    }
   },
   "source": [
    "## Questions\n",
    "\n",
    "__Q1.__ Does your gamma error (i.e. output converge to 0.0?\n",
    "    - If so how quickly (i.e. how long does it take for the error to be 5% of the original error)\n",
    "    - If not, what is happening? Is the error never changing or is it oscillating back and forth across zero? Can you change the proportional gain kp to change this behavior?\n"
   ]
  },
  {
   "cell_type": "markdown",
   "metadata": {
    "deletable": false,
    "id": "BASE5G_puwfA",
    "nbgrader": {
     "checksum": "8becef518ce47c102da592d3b1e08520",
     "grade": true,
     "grade_id": "cell-da84b2df278ee63f",
     "locked": false,
     "points": 3,
     "schema_version": 1,
     "solution": true
    }
   },
   "source": [
    "Yes, it converges to zero. It takes around 1.8 seconds to be withing 5% of the original error with kp=2.0. Increasing the kp to 10.0 has it converge almost immediately, but past that it starts to oscillate. Lowering the value to 0.5 makes it take much longer to converge."
   ]
  },
  {
   "cell_type": "markdown",
   "metadata": {
    "deletable": false,
    "editable": false,
    "id": "iHthCNb4uwfA",
    "nbgrader": {
     "checksum": "287161c90478d921798cca2442b22e43",
     "grade": false,
     "grade_id": "cell-4fb8137a98c4791d",
     "locked": true,
     "schema_version": 1,
     "solution": false
    }
   },
   "source": [
    "__Q2.__ What values should your system's position and velocity be converging upon? Since this is a practice problem and we want to gain understanding of how this system behaves, we've cheated and let you observe the position and velocity of the system which were meant to be unobservable in the real world. Are the position and velocity converging to values you expected?\n"
   ]
  },
  {
   "cell_type": "markdown",
   "metadata": {
    "deletable": false,
    "id": "ixWksu1LuwfA",
    "nbgrader": {
     "checksum": "ef464f8f38598ee6d02738bb87f0802a",
     "grade": true,
     "grade_id": "cell-a2eb17af4a6d09c7",
     "locked": false,
     "points": 1,
     "schema_version": 1,
     "solution": true
    }
   },
   "source": [
    "Position should converge to some constant value indicating that the camera is staying right above its target with gamma equals to zero. Velocity should converge to zero since the target is not moving and if the position is constant velocity will equal zero."
   ]
  },
  {
   "cell_type": "markdown",
   "metadata": {
    "deletable": false,
    "editable": false,
    "id": "MMb8NT2fuwfA",
    "nbgrader": {
     "checksum": "877195610ed03c6c21668dcffe1fbe58",
     "grade": false,
     "grade_id": "cell-9498c95144bc8f91",
     "locked": true,
     "schema_version": 1,
     "solution": false
    }
   },
   "source": [
    "__Q3.__ As you increase the proportional gain, what happens to the rate at which the error converges to zero?\n",
    "\n",
    "Can you find a proportional gain that converges within 1 second (i.e error reaches 5% of it's original value)? Note: if you start to see an oscillatory, saw-tooth pattern, you're gain is too high.\n"
   ]
  },
  {
   "cell_type": "markdown",
   "metadata": {
    "deletable": false,
    "id": "dd31LRaVuwfA",
    "nbgrader": {
     "checksum": "83baae8901af4cac16a82599ccf8a07f",
     "grade": true,
     "grade_id": "cell-81d05ce6a57ad6ce",
     "locked": false,
     "points": 2,
     "schema_version": 1,
     "solution": true
    }
   },
   "source": [
    "Yes. 10.0 has it converge very quickly."
   ]
  },
  {
   "cell_type": "markdown",
   "metadata": {
    "deletable": false,
    "editable": false,
    "id": "sq2r7AXPuwfA",
    "nbgrader": {
     "checksum": "64687eaf7156c077fc28e863f71007ce",
     "grade": false,
     "grade_id": "cell-c17acf63ca490e37",
     "locked": true,
     "schema_version": 1,
     "solution": false
    }
   },
   "source": [
    "__Q4.__ What happens if you cannot perfectly control the velocity, for example there is some form of velocity disturbance that you cannot control (e.g. wind, actuator noise)? Let's try it out:\n",
    "\n",
    "In the #ACTUATOR portion of the simulation script, replace `actuate_velocity_command` with `actuate_disturbed_velocity_command`, restart the kernel, and run the script. Does output error (gamma error) still converge to zero? If not, what does the gamma error converge to? How might you change your controller to fix this \"steady state error\""
   ]
  },
  {
   "cell_type": "markdown",
   "metadata": {
    "deletable": false,
    "id": "mirz50i4uwfA",
    "nbgrader": {
     "checksum": "fab1c49443d9f1dc495977038c2cff3d",
     "grade": true,
     "grade_id": "cell-08701d756d9e167c",
     "locked": false,
     "points": 0,
     "schema_version": 1,
     "solution": true
    }
   },
   "source": [
    "The error gets close to zero but then starts to fluctuate slightly with the velocity being unpredictable. This could be fixed by accounting for the interference as much as possible. Given the average interference or something similar, we could compensate for the interference by altering the inputs."
   ]
  },
  {
   "cell_type": "markdown",
   "metadata": {
    "deletable": false,
    "editable": false,
    "id": "yitd1ZziuwfB",
    "nbgrader": {
     "checksum": "dfaf2748bfa065e27267aa9ae578baa9",
     "grade": false,
     "grade_id": "cell-4a5066504f2f626c",
     "locked": true,
     "schema_version": 1,
     "solution": false
    }
   },
   "source": [
    "__Q5.__ Often times we control a system by applying a force. In this way we are not directly controlling the velocity of a system, but instead the acceleration. Let's try it out:\n",
    "\n",
    "In the ACTUATOR portion of the simulation script replace `actuate_velocity_command` with `actuate_acceleration_command`. In the CONTROLLER portion of the script, have the controller output a acc_cmd instead of vel_cmd (just change the variable name, but this way you know it represents an acceleration instead of a velocity). Restart the kernel and rerun the script\n",
    "\n",
    "Now what is happening to the gamma error, is it converging to zero? If not, is there anything you could think of to change in you controller in order to converge the error to zero?"
   ]
  },
  {
   "cell_type": "markdown",
   "metadata": {
    "deletable": false,
    "id": "YsNcSnWNuwfB",
    "nbgrader": {
     "checksum": "9527e9bea3a2675418afa2c5bd1a3631",
     "grade": true,
     "grade_id": "cell-ea552313897b993a",
     "locked": false,
     "points": 0,
     "schema_version": 1,
     "solution": true
    }
   },
   "source": [
    "It is not converging. Just using proportional control makes it impossible for velocity to be zero at the point of zero error; it propetually oscillates in simple harmonic motion. "
   ]
  },
  {
   "cell_type": "markdown",
   "metadata": {
    "id": "CMR9MlO3AKFt"
   },
   "source": [
    "\n",
    "# ✈️ Altitude PID for a 1‑D “Quadcopter”\n",
    "\n",
    "Follow the instructions below to design and tune a PID controller that tracks a two‑segment altitude profile.\n",
    "\n",
    "Your quadcopter can **only move along the $z$‑axis**.  \n",
    "Track this reference altitude:\n",
    "\n",
    "| Time [s] | Desired $z$ [m] |\n",
    "|:-------:|:---------------:|\n",
    "| 0 – 5   | **2.0** |\n",
    "| 5 – 10   | **0.5** |\n"
   ]
  },
  {
   "cell_type": "markdown",
   "metadata": {
    "id": "h-89irOJC9qw"
   },
   "source": [
    "### 1  Model & dynamics\n",
    "\n",
    "Continuous equation  \n",
    "\n",
    "$$ m\\ddot z = -mg + T, \\qquad T = k_T\\,u, \\; 0\\le u\\le 1 $$\n",
    "\n",
    "Euler step (`plant_step`)  \n",
    "\n",
    "```python\n",
    "vz += (-g + k_T*u/m) * dt\n",
    "z  += vz * dt\n",
    "```\n",
    "\n"
   ]
  },
  {
   "cell_type": "markdown",
   "metadata": {},
   "source": [
    "Below is the base setup for a quadcopter under gravity"
   ]
  },
  {
   "cell_type": "code",
   "execution_count": 15,
   "metadata": {
    "id": "c5_7p5s6DBvu"
   },
   "outputs": [],
   "source": [
    "import numpy as np\n",
    "import matplotlib.pyplot as plt\n",
    "\n",
    "# --- parameters ---------------------------------------------------------\n",
    "m   = 1.0     # kg\n",
    "g   = 9.81    # m/s²\n",
    "k_T = 15.0    # N  (full-throttle thrust)\n",
    "\n",
    "def plant_step(z, vz, u, dt):\n",
    "    \"\"\"Euler integrate 1‑D quad dynamics.\"\"\"\n",
    "    acc = -g + k_T * u / m\n",
    "    vz += acc * dt\n",
    "    z  += vz * dt\n",
    "    return z, vz\n"
   ]
  },
  {
   "cell_type": "markdown",
   "metadata": {
    "id": "XJRbSVGADG1D"
   },
   "source": [
    "### 2  PID controller"
   ]
  },
  {
   "cell_type": "markdown",
   "metadata": {},
   "source": [
    "Once done with coding the simulation loop, return back to this cell and tune the different parameters"
   ]
  },
  {
   "cell_type": "code",
   "execution_count": 16,
   "metadata": {
    "id": "WRaONvTSDNCK"
   },
   "outputs": [],
   "source": [
    "def pid_control(err, err_int, err_dot, kp, ki, kd):\n",
    "    \"\"\"PID with throttle clipping in [0, 1].\n",
    "\n",
    "    The caller should disable integral accumulation when\n",
    "    the output saturates (anti‑wind‑up).\n",
    "    \"\"\"\n",
    "    u = kp*err + ki*err_int + kd*err_dot\n",
    "    return np.clip(u, 0.0, 1.0)\n",
    "\n",
    "# initial gains (tune!)\n",
    "kp, ki, kd = 1.5, 0.8, 0.40\n"
   ]
  },
  {
   "cell_type": "markdown",
   "metadata": {
    "id": "yiMUTzpQDPPy"
   },
   "source": [
    "### 3  Simulation loop"
   ]
  },
  {
   "cell_type": "markdown",
   "metadata": {},
   "source": [
    "This simulates the drone's height over time, while changing the thrust according to your PID controller"
   ]
  },
  {
   "cell_type": "code",
   "execution_count": 17,
   "metadata": {
    "id": "YtgxziIdDR0V"
   },
   "outputs": [],
   "source": [
    "#Variable setup\n",
    "dt, t_end = 0.02, 10.0\n",
    "z = vz = 0.0\n",
    "err_int = err_prev = 0.0\n",
    "log_t, log_z, log_vz, log_u, log_err = [], [], [], [], []\n",
    "\n",
    "# --- main loop ---\n",
    "t = 0.0\n",
    "while t < t_end:\n",
    "    z_des = 2.0 if t < 5.0 else 0.5\n",
    "    err   = z_des-z\n",
    "    err_int += err*dt\n",
    "    err_dot = (err-err_prev)/dt\n",
    "    u = pid_control(err, err_int, err_dot, kp, ki, kd)\n",
    "\n",
    "    z, vz = plant_step(z, vz, u, dt)\n",
    "\n",
    "    # log\n",
    "    log_t.append(t); log_z.append(z); log_vz.append(vz)\n",
    "    log_u.append(u); log_err.append(err)\n",
    "    err_prev = err\n",
    "    t += dt\n"
   ]
  },
  {
   "cell_type": "markdown",
   "metadata": {
    "id": "2krVTsbLDUMn"
   },
   "source": [
    "### 4  Visualisation"
   ]
  },
  {
   "cell_type": "code",
   "execution_count": 18,
   "metadata": {
    "colab": {
     "base_uri": "https://localhost:8080/",
     "height": 607
    },
    "id": "JRyFKSGlDWbS",
    "outputId": "955f9967-b8b5-44d7-9af5-87b0e64d6ff9"
   },
   "outputs": [
    {
     "data": {
      "image/png": "[encoded data removed]",
      "text/plain": [
       "<Figure size 800x600 with 3 Axes>"
      ]
     },
     "metadata": {},
     "output_type": "display_data"
    }
   ],
   "source": [
    "import matplotlib.pyplot as plt\n",
    "plt.figure(figsize=(8,6))\n",
    "plt.subplot(3,1,1); plt.plot(log_t, log_z); plt.ylabel('z [m]')\n",
    "plt.subplot(3,1,2); plt.plot(log_t, log_vz); plt.ylabel('vz [m/s]')\n",
    "plt.subplot(3,1,3); plt.plot(log_t, log_u); plt.ylabel('throttle'); plt.xlabel('time [s]')\n",
    "plt.tight_layout(); plt.show()\n"
   ]
  },
  {
   "cell_type": "markdown",
   "metadata": {},
   "source": [
    "# Quadcopter in two dimentions\n",
    "\n",
    "The math is exactly the same, but now with vectors instead of scalars\n",
    "\n",
    "Your quadcopter can move only in the X and Y directions at relatively low speeds (it stays flat). Your mission is to catch (be within 10cm of) a particle moving with constant velocity in a windy environement."
   ]
  },
  {
   "cell_type": "code",
   "execution_count": 19,
   "metadata": {},
   "outputs": [],
   "source": [
    "import numpy as np\n",
    "import matplotlib.pyplot as plt\n",
    "\n",
    "# --- parameters ---------------------------------------------------------\n",
    "m   = 1.0     # kg\n",
    "k_T = 15.0    # N  (full-throttle thrust)\n",
    "\n",
    "w_x_bias = 5.0 #Wind vector params\n",
    "w_x_std = 5.0\n",
    "w_y_bias = 3.2\n",
    "w_y_std = 0.15\n",
    "\n",
    "v_ball = np.array([2*np.random.normal(0, 5), 2*np.random.normal(0, 5)])\n",
    "def plant_step(s, v, u, dt, s_ball):\n",
    "    \"\"\"Euler integrate 2‑D quad dynamics.\"\"\"\n",
    "    F_w = np.array([np.random.normal(w_x_bias, w_x_std), np.random.normal(w_y_bias, w_y_std)]) #Force of wind\n",
    "    F_T = k_T * u\n",
    "    a = F_T/m\n",
    "    v += a * dt\n",
    "    s  += v * dt\n",
    "    s_ball += v_ball*dt\n",
    "    return s, v, s_ball\n"
   ]
  },
  {
   "cell_type": "code",
   "execution_count": 20,
   "metadata": {},
   "outputs": [],
   "source": [
    "def pid_control(err, err_int, err_dot, kp, ki, kd):\n",
    "    \"\"\"PID with throttle clipping in [0, 1].\n",
    "\n",
    "    The caller should disable integral accumulation when\n",
    "    the output saturates (anti‑wind‑up).\n",
    "    \"\"\"\n",
    "    u = kp*err + ki*err_int + kd*err_dot\n",
    "    return np.clip(u, -1.0, 1.0)\n",
    "# initial gains (tune!)\n",
    "kp, ki, kd = 1.5, 0.6, 0.60\n"
   ]
  },
  {
   "cell_type": "code",
   "execution_count": 21,
   "metadata": {},
   "outputs": [
    {
     "name": "stdout",
     "output_type": "stream",
     "text": [
      "Time to catch:0.7999999999999999\n"
     ]
    }
   ],
   "source": [
    "#Variable setup\n",
    "dt, t_max = 0.1, 15.0\n",
    "s = np.array([0.0, 0.0])\n",
    "v = np.array([0.0, 0.0])\n",
    "err_int = err_prev = np.array([0.0, 0.0])\n",
    "log_t, log_s, log_v, log_u, log_err, log_s_ball = [], [], [], [], [], []\n",
    "s_ball = np.array([10*np.random.rand(), 10*np.random.rand()])\n",
    "\n",
    "# --- main loop ---\n",
    "t = 0.0\n",
    "while t < t_max:\n",
    "    s_des = s_ball\n",
    "    err   = s_des-s\n",
    "    err_int += err*dt\n",
    "    err_dot = (err-err_prev)/dt\n",
    "    u = pid_control(err, err_int, err_dot, kp, ki, kd)\n",
    "    s, v, s_ball = plant_step(s, v, u, dt, s_ball)\n",
    "    log_t.append(t); log_s.append(s.copy()); log_v.append(v.copy())\n",
    "    log_u.append(u.copy()); log_err.append(err); log_s_ball.append(s_ball.copy())\n",
    "    err_prev = err\n",
    "    t += dt\n",
    "    if np.linalg.norm(s_ball-s)<0.1:\n",
    "        print(f\"Time to catch:{t}\")\n",
    "        break\n"
   ]
  },
  {
   "cell_type": "code",
   "execution_count": 22,
   "metadata": {},
   "outputs": [
    {
     "data": {
      "text/plain": [
       "<Figure size 800x600 with 0 Axes>"
      ]
     },
     "metadata": {},
     "output_type": "display_data"
    },
    {
     "data": {
      "image/png": "[encoded data removed]",
      "text/plain": [
       "<Figure size 800x600 with 1 Axes>"
      ]
     },
     "metadata": {},
     "output_type": "display_data"
    }
   ],
   "source": [
    "log_s = np.array(log_s)\n",
    "log_v = np.array(log_v)\n",
    "log_u = np.array(log_u)\n",
    "log_t = np.array(log_t)\n",
    "\n",
    "plt.figure(figsize=(8,6))\n",
    "\n",
    "from matplotlib import cm\n",
    "\n",
    "log_s = np.array(log_s)\n",
    "log_s_ball = np.array(log_s_ball)\n",
    "log_t = np.array(log_t)\n",
    "\n",
    "t_norm = (log_t - log_t[0]) / (log_t[-1] - log_t[0])\n",
    "\n",
    "drone_colors = cm.Reds(t_norm)\n",
    "ball_colors = cm.Blues(t_norm)\n",
    "\n",
    "plt.figure(figsize=(8, 6))\n",
    "\n",
    "# Drone with red shades and black edge\n",
    "plt.scatter(log_s[:, 0], log_s[:, 1], c=drone_colors, s=20, label=\"Drone\", edgecolor='k')\n",
    "\n",
    "# Ball with blue shades, circle marker, black edge for visibility\n",
    "plt.scatter(log_s_ball[:, 0], log_s_ball[:, 1], c=ball_colors, s=40, marker='o',\n",
    "            label=\"Ball\", edgecolor='k', linewidth=0.8)\n",
    "\n",
    "plt.xlabel(\"X Position [m]\")\n",
    "plt.ylabel(\"Y Position [m]\")\n",
    "plt.title(\"2D Trajectory of Drone and Ball Over Time\")\n",
    "plt.legend()\n",
    "plt.axis(\"equal\")\n",
    "plt.grid(True)\n",
    "plt.show()\n",
    "\n"
   ]
  },
  {
   "cell_type": "code",
   "execution_count": null,
   "metadata": {},
   "outputs": [],
   "source": []
  }
 ],
 "metadata": {
  "colab": {
   "provenance": []
  },
  "kernelspec": {
   "display_name": "Python 3 (ipykernel)",
   "language": "python",
   "name": "python3"
  },
  "language_info": {
   "codemirror_mode": {
    "name": "ipython",
    "version": 3
   },
   "file_extension": ".py",
   "mimetype": "text/x-python",
   "name": "python",
   "nbconvert_exporter": "python",
   "pygments_lexer": "ipython3",
   "version": "3.10.12"
  }
 },
 "nbformat": 4,
 "nbformat_minor": 4
}
